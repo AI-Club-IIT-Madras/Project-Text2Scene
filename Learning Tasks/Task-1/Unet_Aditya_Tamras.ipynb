{
  "nbformat": 4,
  "nbformat_minor": 0,
  "metadata": {
    "colab": {
      "provenance": [],
      "gpuType": "T4"
    },
    "kernelspec": {
      "name": "python3",
      "display_name": "Python 3"
    },
    "language_info": {
      "name": "python"
    },
    "accelerator": "GPU"
  },
  "cells": [
    {
      "cell_type": "code",
      "execution_count": 1,
      "metadata": {
        "id": "Lm5j_rLkZlKN"
      },
      "outputs": [],
      "source": [
        "import torch\n",
        "import torch.nn as nn\n",
        "import torchvision.transforms.functional as TF\n",
        "import torch.optim as optim\n",
        "from torch.utils.data import DataLoader, Dataset\n",
        "from torchvision.transforms import ToTensor"
      ]
    },
    {
      "cell_type": "code",
      "source": [
        "class conv_block(nn.Module):\n",
        "  def __init__(self, in_c, out_c):\n",
        "    super(conv_block, self).__init__()\n",
        "    self.conv1=nn.Conv2d(in_c, out_c, kernel_size=3, stride=1, padding=1, bias=False)\n",
        "    self.bn1=nn.BatchNorm2d(out_c)\n",
        "    self.conv2=nn.Conv2d(out_c, out_c, kernel_size=3, stride=1, padding=1, bias=False)\n",
        "    self.bn2=nn.BatchNorm2d(out_c)\n",
        "    self.relu = nn.ReLU()\n",
        "\n",
        "  def forward(self, inputs):\n",
        "    x=self.conv1(inputs)\n",
        "    x=self.bn1(x)\n",
        "    x=self.relu(x)\n",
        "    x=self.conv2(x)\n",
        "    x=self.bn2(x)\n",
        "    x=self.relu(x)\n",
        "    return x"
      ],
      "metadata": {
        "id": "P6GYJU-LlaSy"
      },
      "execution_count": 2,
      "outputs": []
    },
    {
      "cell_type": "code",
      "source": [
        "class encoder_block(nn.Module):\n",
        "  def __init__(self, in_c, out_c):\n",
        "    super(encoder_block, self).__init__()\n",
        "    self.conv=conv_block(in_c, out_c)\n",
        "    self.pool=nn.MaxPool2d(kernel_size=2, stride=2)\n",
        "\n",
        "  def forward(self, inputs):\n",
        "    x=self.conv(inputs)\n",
        "    p=self.pool(x)\n",
        "    return x,p"
      ],
      "metadata": {
        "id": "-sVmrHwKptrI"
      },
      "execution_count": 3,
      "outputs": []
    },
    {
      "cell_type": "code",
      "source": [
        "class decoder_block(nn.Module):\n",
        "  def __init__(self, in_c, out_c):\n",
        "    super(decoder_block, self).__init__()\n",
        "    self.up=nn.ConvTranspose2d(in_c, out_c, kernel_size=2, stride=2, padding=0)\n",
        "    self.conv=conv_block(out_c*2, out_c)\n",
        "\n",
        "  def forward(self, inputs, skip):\n",
        "    x=self.up(inputs)\n",
        "    x=torch.cat([x, skip], axis=1)\n",
        "    x=self.conv(x)\n",
        "    return x"
      ],
      "metadata": {
        "id": "kSXvu08ZqqV-"
      },
      "execution_count": 4,
      "outputs": []
    },
    {
      "cell_type": "code",
      "source": [
        "class unet(nn.Module):\n",
        "  def __init__(self, in_c=3, out_c=1):\n",
        "    super(unet, self).__init__()\n",
        "    self.e1=encoder_block(in_c, 64)\n",
        "    self.e2=encoder_block(64, 128)\n",
        "    self.e3=encoder_block(128, 256)\n",
        "    self.e4=encoder_block(256, 512)   \n",
        "    \n",
        "    self.base=conv_block(512, 1024)\n",
        "\n",
        "    self.d1=decoder_block(1024, 512)\n",
        "    self.d2=decoder_block(512, 256)\n",
        "    self.d3=decoder_block(256, 128)\n",
        "    self.d4=decoder_block(128, 64)\n",
        "    \n",
        "    self.output=nn.Conv2d(64, out_c, kernel_size=3, padding=1)\n",
        "\n",
        "  def forward(self, inputs):\n",
        "    s1, p1=self.e1(inputs)\n",
        "    s2, p2=self.e2(p1)\n",
        "    s3, p3=self.e3(p2)\n",
        "    s4,p4=self.e4(p3)\n",
        "\n",
        "    b=self.base(p4)\n",
        "\n",
        "    o1=self.d1(b, s4)\n",
        "    o2=self.d2(o1, s3)\n",
        "    o3=self.d3(o2, s2)\n",
        "    o4=self.d4(o3, s1)\n",
        "\n",
        "    outputs=self.output(o4)\n",
        "\n",
        "    return outputs\n",
        "\n",
        "\n"
      ],
      "metadata": {
        "id": "YJTij8QvFrUY"
      },
      "execution_count": 5,
      "outputs": []
    },
    {
      "cell_type": "code",
      "source": [
        "def test():\n",
        "  x = torch.randn((3,1,160,160))\n",
        "  model = unet(in_c = 1, out_c= 2)\n",
        "  preds = model(x)\n",
        "  return preds.shape\n",
        "test()"
      ],
      "metadata": {
        "colab": {
          "base_uri": "https://localhost:8080/"
        },
        "id": "vWuNTg-1wCgq",
        "outputId": "585829b0-6b9b-4015-bbf0-9640a04e4c72"
      },
      "execution_count": 6,
      "outputs": [
        {
          "output_type": "execute_result",
          "data": {
            "text/plain": [
              "torch.Size([3, 2, 160, 160])"
            ]
          },
          "metadata": {},
          "execution_count": 6
        }
      ]
    },
    {
      "cell_type": "code",
      "source": [
        "from torch.utils.data import Dataset\n",
        "import os \n",
        "import numpy as np\n",
        "from PIL import Image\n",
        "class ForestDataset(Dataset):\n",
        "  def __init__(self, image_dir, mask_dir, transform=None):\n",
        "    self.image_dir = image_dir\n",
        "    self.mask_dir = mask_dir\n",
        "    self.transform = transform\n",
        "    self.images = os.listdir(image_dir)\n",
        "\n",
        "  def __len__(self):\n",
        "    return len(self.images)\n",
        "\n",
        "  def __getitem__(self, index):\n",
        "    image_path = os.path.join(self.image_dir, self.images[index])\n",
        "    mask_path = os.path.join(self.mask_dir, self.images[index].replace(\"sat\", \"mask\"))\n",
        "    image = np.array(Image.open(image_path).convert(\"RGB\"))\n",
        "    mask = np.array(Image.open(mask_path).convert(\"L\"), dtype = np.float32)\n",
        "    image = np.transpose(image/255.0)\n",
        "    mask = np.transpose(mask/255.0)\n",
        "\n",
        "    return image, mask\n",
        "  \n",
        "\n"
      ],
      "metadata": {
        "id": "aOblbXDPZgKz"
      },
      "execution_count": 7,
      "outputs": []
    },
    {
      "cell_type": "code",
      "source": [
        "train_image_dir = \"/content/drive/MyDrive/ForestAreaDataset/Forest Segmented/Forest Segmented/train_images\"\n",
        "test_image_dir = \"/content/drive/MyDrive/ForestAreaDataset/Forest Segmented/Forest Segmented/test_images\"\n",
        "train_mask_dir = \"/content/drive/MyDrive/ForestAreaDataset/Forest Segmented/Forest Segmented/train_masks\"\n",
        "test_mask_dir = \"/content/drive/MyDrive/ForestAreaDataset/Forest Segmented/Forest Segmented/test_masks\""
      ],
      "metadata": {
        "id": "YItzSn1ItBfC"
      },
      "execution_count": 8,
      "outputs": []
    },
    {
      "cell_type": "code",
      "source": [
        "def check_accuracy(loader, model, device=torch.device(\"cuda\")):\n",
        "  num_correct = 0\n",
        "  num_pixels = 0\n",
        "  model.eval()\n",
        "\n",
        "  with torch.no_grad():\n",
        "    for x,y in loader:\n",
        "      x=x.to(device).float()\n",
        "      y=y.to(device).unsqueeze(1).float()\n",
        "      pred = torch.sigmoid(model(x))\n",
        "      pred = (pred>0.5).float()\n",
        "      num_correct += (pred==y).sum()\n",
        "      num_pixels += torch.numel(pred)\n",
        "    print(f\"Accuracy = {(num_correct/num_pixels)*100:.2f}\")"
      ],
      "metadata": {
        "id": "sfu3BNe8ktpM"
      },
      "execution_count": 9,
      "outputs": []
    },
    {
      "cell_type": "code",
      "source": [
        "import torch\n",
        "import torch.nn as nn\n",
        "import torch.optim as optim\n",
        "from torch.utils.data import DataLoader, Dataset\n",
        "from torchvision.transforms import ToTensor\n",
        "\n",
        "from tqdm import tqdm\n",
        "\n",
        "device = torch.device(\"cuda\")\n",
        "\n",
        "num_epochs = 5\n",
        "batch_size = 10\n",
        "learning_rate = 0.001\n",
        "\n",
        "train_dataset = ForestDataset(train_image_dir, train_mask_dir, transform=ToTensor())\n",
        "train_dataloader = DataLoader(train_dataset, batch_size=batch_size, shuffle=False)\n",
        "test_dataset = ForestDataset(test_image_dir, test_mask_dir, transform=ToTensor())\n",
        "test_dataloader = DataLoader(test_dataset, batch_size=batch_size, shuffle=False)\n",
        "model = unet(in_c=3, out_c=1).to(device)\n",
        "\n",
        "loss_f = nn.BCEWithLogitsLoss()\n",
        "\n",
        "optimizer = optim.Adam(model.parameters(), lr=learning_rate)\n",
        "\n",
        "for epoch in range(num_epochs):\n",
        "  model.train()\n",
        "  current_loss = 0.0\n",
        "\n",
        "  for batch_idx, (inputs, targets) in enumerate(train_dataloader):\n",
        "    inputs = inputs.to(device).float()\n",
        "    targets = targets.to(device).unsqueeze(1).float()\n",
        "\n",
        "    optimizer.zero_grad()\n",
        "\n",
        "    outputs = model(inputs)\n",
        "    loss = loss_f(outputs, targets)\n",
        "\n",
        "    loss.backward()\n",
        "    optimizer.step()\n",
        "\n",
        "    current_loss = loss.item()\n",
        "\n",
        "  check_accuracy(test_dataloader, model, device=device)\n",
        "  print(current_loss)"
      ],
      "metadata": {
        "id": "LE6tZSI1RfgT"
      },
      "execution_count": null,
      "outputs": []
    },
    {
      "cell_type": "code",
      "source": [],
      "metadata": {
        "id": "AU1Ca5ix1Njp"
      },
      "execution_count": null,
      "outputs": []
    }
  ]
}
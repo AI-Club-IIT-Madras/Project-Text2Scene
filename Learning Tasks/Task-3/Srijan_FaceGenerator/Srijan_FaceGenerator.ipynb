{
  "nbformat": 4,
  "nbformat_minor": 0,
  "metadata": {
    "colab": {
      "provenance": [],
      "gpuType": "T4"
    },
    "kernelspec": {
      "name": "python3",
      "display_name": "Python 3"
    },
    "language_info": {
      "name": "python"
    },
    "widgets": {
      "application/vnd.jupyter.widget-state+json": {
        "6a309f3de7d048ad808fdf861338b1fb": {
          "model_module": "@jupyter-widgets/controls",
          "model_name": "HBoxModel",
          "model_module_version": "1.5.0",
          "state": {
            "_dom_classes": [],
            "_model_module": "@jupyter-widgets/controls",
            "_model_module_version": "1.5.0",
            "_model_name": "HBoxModel",
            "_view_count": null,
            "_view_module": "@jupyter-widgets/controls",
            "_view_module_version": "1.5.0",
            "_view_name": "HBoxView",
            "box_style": "",
            "children": [
              "IPY_MODEL_99e51e982429484c9829000ddfe54bf3",
              "IPY_MODEL_f38dbcf20e12449ba439b1cc0074ee32",
              "IPY_MODEL_56756595c39747669d4684d241633cbf"
            ],
            "layout": "IPY_MODEL_50cbda65b582424aadf24ced02df7a07"
          }
        },
        "99e51e982429484c9829000ddfe54bf3": {
          "model_module": "@jupyter-widgets/controls",
          "model_name": "HTMLModel",
          "model_module_version": "1.5.0",
          "state": {
            "_dom_classes": [],
            "_model_module": "@jupyter-widgets/controls",
            "_model_module_version": "1.5.0",
            "_model_name": "HTMLModel",
            "_view_count": null,
            "_view_module": "@jupyter-widgets/controls",
            "_view_module_version": "1.5.0",
            "_view_name": "HTMLView",
            "description": "",
            "description_tooltip": null,
            "layout": "IPY_MODEL_8b4ec79f4bd945ca86107f390766831d",
            "placeholder": "​",
            "style": "IPY_MODEL_46d2f168ba274898bd305b933bc55ce1",
            "value": "100%"
          }
        },
        "f38dbcf20e12449ba439b1cc0074ee32": {
          "model_module": "@jupyter-widgets/controls",
          "model_name": "FloatProgressModel",
          "model_module_version": "1.5.0",
          "state": {
            "_dom_classes": [],
            "_model_module": "@jupyter-widgets/controls",
            "_model_module_version": "1.5.0",
            "_model_name": "FloatProgressModel",
            "_view_count": null,
            "_view_module": "@jupyter-widgets/controls",
            "_view_module_version": "1.5.0",
            "_view_name": "ProgressView",
            "bar_style": "success",
            "description": "",
            "description_tooltip": null,
            "layout": "IPY_MODEL_f5cb19ba33e6413d86fe3bd2fe8faf53",
            "max": 2544,
            "min": 0,
            "orientation": "horizontal",
            "style": "IPY_MODEL_2154a7d35b1a411c8b40e828602731f1",
            "value": 2544
          }
        },
        "56756595c39747669d4684d241633cbf": {
          "model_module": "@jupyter-widgets/controls",
          "model_name": "HTMLModel",
          "model_module_version": "1.5.0",
          "state": {
            "_dom_classes": [],
            "_model_module": "@jupyter-widgets/controls",
            "_model_module_version": "1.5.0",
            "_model_name": "HTMLModel",
            "_view_count": null,
            "_view_module": "@jupyter-widgets/controls",
            "_view_module_version": "1.5.0",
            "_view_name": "HTMLView",
            "description": "",
            "description_tooltip": null,
            "layout": "IPY_MODEL_cb805df1e7ca4555aff9e90a5173af4e",
            "placeholder": "​",
            "style": "IPY_MODEL_1762fc0f0b4c443b8fae9d1192efe5c6",
            "value": " 2544/2544 [05:27&lt;00:00,  6.30it/s]"
          }
        },
        "50cbda65b582424aadf24ced02df7a07": {
          "model_module": "@jupyter-widgets/base",
          "model_name": "LayoutModel",
          "model_module_version": "1.2.0",
          "state": {
            "_model_module": "@jupyter-widgets/base",
            "_model_module_version": "1.2.0",
            "_model_name": "LayoutModel",
            "_view_count": null,
            "_view_module": "@jupyter-widgets/base",
            "_view_module_version": "1.2.0",
            "_view_name": "LayoutView",
            "align_content": null,
            "align_items": null,
            "align_self": null,
            "border": null,
            "bottom": null,
            "display": null,
            "flex": null,
            "flex_flow": null,
            "grid_area": null,
            "grid_auto_columns": null,
            "grid_auto_flow": null,
            "grid_auto_rows": null,
            "grid_column": null,
            "grid_gap": null,
            "grid_row": null,
            "grid_template_areas": null,
            "grid_template_columns": null,
            "grid_template_rows": null,
            "height": null,
            "justify_content": null,
            "justify_items": null,
            "left": null,
            "margin": null,
            "max_height": null,
            "max_width": null,
            "min_height": null,
            "min_width": null,
            "object_fit": null,
            "object_position": null,
            "order": null,
            "overflow": null,
            "overflow_x": null,
            "overflow_y": null,
            "padding": null,
            "right": null,
            "top": null,
            "visibility": null,
            "width": null
          }
        },
        "8b4ec79f4bd945ca86107f390766831d": {
          "model_module": "@jupyter-widgets/base",
          "model_name": "LayoutModel",
          "model_module_version": "1.2.0",
          "state": {
            "_model_module": "@jupyter-widgets/base",
            "_model_module_version": "1.2.0",
            "_model_name": "LayoutModel",
            "_view_count": null,
            "_view_module": "@jupyter-widgets/base",
            "_view_module_version": "1.2.0",
            "_view_name": "LayoutView",
            "align_content": null,
            "align_items": null,
            "align_self": null,
            "border": null,
            "bottom": null,
            "display": null,
            "flex": null,
            "flex_flow": null,
            "grid_area": null,
            "grid_auto_columns": null,
            "grid_auto_flow": null,
            "grid_auto_rows": null,
            "grid_column": null,
            "grid_gap": null,
            "grid_row": null,
            "grid_template_areas": null,
            "grid_template_columns": null,
            "grid_template_rows": null,
            "height": null,
            "justify_content": null,
            "justify_items": null,
            "left": null,
            "margin": null,
            "max_height": null,
            "max_width": null,
            "min_height": null,
            "min_width": null,
            "object_fit": null,
            "object_position": null,
            "order": null,
            "overflow": null,
            "overflow_x": null,
            "overflow_y": null,
            "padding": null,
            "right": null,
            "top": null,
            "visibility": null,
            "width": null
          }
        },
        "46d2f168ba274898bd305b933bc55ce1": {
          "model_module": "@jupyter-widgets/controls",
          "model_name": "DescriptionStyleModel",
          "model_module_version": "1.5.0",
          "state": {
            "_model_module": "@jupyter-widgets/controls",
            "_model_module_version": "1.5.0",
            "_model_name": "DescriptionStyleModel",
            "_view_count": null,
            "_view_module": "@jupyter-widgets/base",
            "_view_module_version": "1.2.0",
            "_view_name": "StyleView",
            "description_width": ""
          }
        },
        "f5cb19ba33e6413d86fe3bd2fe8faf53": {
          "model_module": "@jupyter-widgets/base",
          "model_name": "LayoutModel",
          "model_module_version": "1.2.0",
          "state": {
            "_model_module": "@jupyter-widgets/base",
            "_model_module_version": "1.2.0",
            "_model_name": "LayoutModel",
            "_view_count": null,
            "_view_module": "@jupyter-widgets/base",
            "_view_module_version": "1.2.0",
            "_view_name": "LayoutView",
            "align_content": null,
            "align_items": null,
            "align_self": null,
            "border": null,
            "bottom": null,
            "display": null,
            "flex": null,
            "flex_flow": null,
            "grid_area": null,
            "grid_auto_columns": null,
            "grid_auto_flow": null,
            "grid_auto_rows": null,
            "grid_column": null,
            "grid_gap": null,
            "grid_row": null,
            "grid_template_areas": null,
            "grid_template_columns": null,
            "grid_template_rows": null,
            "height": null,
            "justify_content": null,
            "justify_items": null,
            "left": null,
            "margin": null,
            "max_height": null,
            "max_width": null,
            "min_height": null,
            "min_width": null,
            "object_fit": null,
            "object_position": null,
            "order": null,
            "overflow": null,
            "overflow_x": null,
            "overflow_y": null,
            "padding": null,
            "right": null,
            "top": null,
            "visibility": null,
            "width": null
          }
        },
        "2154a7d35b1a411c8b40e828602731f1": {
          "model_module": "@jupyter-widgets/controls",
          "model_name": "ProgressStyleModel",
          "model_module_version": "1.5.0",
          "state": {
            "_model_module": "@jupyter-widgets/controls",
            "_model_module_version": "1.5.0",
            "_model_name": "ProgressStyleModel",
            "_view_count": null,
            "_view_module": "@jupyter-widgets/base",
            "_view_module_version": "1.2.0",
            "_view_name": "StyleView",
            "bar_color": null,
            "description_width": ""
          }
        },
        "cb805df1e7ca4555aff9e90a5173af4e": {
          "model_module": "@jupyter-widgets/base",
          "model_name": "LayoutModel",
          "model_module_version": "1.2.0",
          "state": {
            "_model_module": "@jupyter-widgets/base",
            "_model_module_version": "1.2.0",
            "_model_name": "LayoutModel",
            "_view_count": null,
            "_view_module": "@jupyter-widgets/base",
            "_view_module_version": "1.2.0",
            "_view_name": "LayoutView",
            "align_content": null,
            "align_items": null,
            "align_self": null,
            "border": null,
            "bottom": null,
            "display": null,
            "flex": null,
            "flex_flow": null,
            "grid_area": null,
            "grid_auto_columns": null,
            "grid_auto_flow": null,
            "grid_auto_rows": null,
            "grid_column": null,
            "grid_gap": null,
            "grid_row": null,
            "grid_template_areas": null,
            "grid_template_columns": null,
            "grid_template_rows": null,
            "height": null,
            "justify_content": null,
            "justify_items": null,
            "left": null,
            "margin": null,
            "max_height": null,
            "max_width": null,
            "min_height": null,
            "min_width": null,
            "object_fit": null,
            "object_position": null,
            "order": null,
            "overflow": null,
            "overflow_x": null,
            "overflow_y": null,
            "padding": null,
            "right": null,
            "top": null,
            "visibility": null,
            "width": null
          }
        },
        "1762fc0f0b4c443b8fae9d1192efe5c6": {
          "model_module": "@jupyter-widgets/controls",
          "model_name": "DescriptionStyleModel",
          "model_module_version": "1.5.0",
          "state": {
            "_model_module": "@jupyter-widgets/controls",
            "_model_module_version": "1.5.0",
            "_model_name": "DescriptionStyleModel",
            "_view_count": null,
            "_view_module": "@jupyter-widgets/base",
            "_view_module_version": "1.2.0",
            "_view_name": "StyleView",
            "description_width": ""
          }
        },
        "a1b62939cbf644a593fb2c374f732ccd": {
          "model_module": "@jupyter-widgets/controls",
          "model_name": "HBoxModel",
          "model_module_version": "1.5.0",
          "state": {
            "_dom_classes": [],
            "_model_module": "@jupyter-widgets/controls",
            "_model_module_version": "1.5.0",
            "_model_name": "HBoxModel",
            "_view_count": null,
            "_view_module": "@jupyter-widgets/controls",
            "_view_module_version": "1.5.0",
            "_view_name": "HBoxView",
            "box_style": "",
            "children": [
              "IPY_MODEL_7ef33a52147343f8842b20e0667d6961",
              "IPY_MODEL_f4c1742e5d94483191f130159be88d30",
              "IPY_MODEL_329b90b1556044d58bd7d7c5d77a9dc5"
            ],
            "layout": "IPY_MODEL_8fbc9c547c754bf4bf3a1f994aa3f54e"
          }
        },
        "7ef33a52147343f8842b20e0667d6961": {
          "model_module": "@jupyter-widgets/controls",
          "model_name": "HTMLModel",
          "model_module_version": "1.5.0",
          "state": {
            "_dom_classes": [],
            "_model_module": "@jupyter-widgets/controls",
            "_model_module_version": "1.5.0",
            "_model_name": "HTMLModel",
            "_view_count": null,
            "_view_module": "@jupyter-widgets/controls",
            "_view_module_version": "1.5.0",
            "_view_name": "HTMLView",
            "description": "",
            "description_tooltip": null,
            "layout": "IPY_MODEL_069b57a25d8e47dab25289403f853f8d",
            "placeholder": "​",
            "style": "IPY_MODEL_fb8d52a7acd942bcac4071899bd310da",
            "value": "100%"
          }
        },
        "f4c1742e5d94483191f130159be88d30": {
          "model_module": "@jupyter-widgets/controls",
          "model_name": "FloatProgressModel",
          "model_module_version": "1.5.0",
          "state": {
            "_dom_classes": [],
            "_model_module": "@jupyter-widgets/controls",
            "_model_module_version": "1.5.0",
            "_model_name": "FloatProgressModel",
            "_view_count": null,
            "_view_module": "@jupyter-widgets/controls",
            "_view_module_version": "1.5.0",
            "_view_name": "ProgressView",
            "bar_style": "success",
            "description": "",
            "description_tooltip": null,
            "layout": "IPY_MODEL_46d79aa0a63643f4a89db6883c3d15e8",
            "max": 2544,
            "min": 0,
            "orientation": "horizontal",
            "style": "IPY_MODEL_b2b18c68cacd468192b5ef1086cde813",
            "value": 2544
          }
        },
        "329b90b1556044d58bd7d7c5d77a9dc5": {
          "model_module": "@jupyter-widgets/controls",
          "model_name": "HTMLModel",
          "model_module_version": "1.5.0",
          "state": {
            "_dom_classes": [],
            "_model_module": "@jupyter-widgets/controls",
            "_model_module_version": "1.5.0",
            "_model_name": "HTMLModel",
            "_view_count": null,
            "_view_module": "@jupyter-widgets/controls",
            "_view_module_version": "1.5.0",
            "_view_name": "HTMLView",
            "description": "",
            "description_tooltip": null,
            "layout": "IPY_MODEL_2c66e0793a1a4f5e89d3e4da44ada13f",
            "placeholder": "​",
            "style": "IPY_MODEL_e6c28d8fe0034420aae367046f8a3af2",
            "value": " 2544/2544 [05:27&lt;00:00,  6.44it/s]"
          }
        },
        "8fbc9c547c754bf4bf3a1f994aa3f54e": {
          "model_module": "@jupyter-widgets/base",
          "model_name": "LayoutModel",
          "model_module_version": "1.2.0",
          "state": {
            "_model_module": "@jupyter-widgets/base",
            "_model_module_version": "1.2.0",
            "_model_name": "LayoutModel",
            "_view_count": null,
            "_view_module": "@jupyter-widgets/base",
            "_view_module_version": "1.2.0",
            "_view_name": "LayoutView",
            "align_content": null,
            "align_items": null,
            "align_self": null,
            "border": null,
            "bottom": null,
            "display": null,
            "flex": null,
            "flex_flow": null,
            "grid_area": null,
            "grid_auto_columns": null,
            "grid_auto_flow": null,
            "grid_auto_rows": null,
            "grid_column": null,
            "grid_gap": null,
            "grid_row": null,
            "grid_template_areas": null,
            "grid_template_columns": null,
            "grid_template_rows": null,
            "height": null,
            "justify_content": null,
            "justify_items": null,
            "left": null,
            "margin": null,
            "max_height": null,
            "max_width": null,
            "min_height": null,
            "min_width": null,
            "object_fit": null,
            "object_position": null,
            "order": null,
            "overflow": null,
            "overflow_x": null,
            "overflow_y": null,
            "padding": null,
            "right": null,
            "top": null,
            "visibility": null,
            "width": null
          }
        },
        "069b57a25d8e47dab25289403f853f8d": {
          "model_module": "@jupyter-widgets/base",
          "model_name": "LayoutModel",
          "model_module_version": "1.2.0",
          "state": {
            "_model_module": "@jupyter-widgets/base",
            "_model_module_version": "1.2.0",
            "_model_name": "LayoutModel",
            "_view_count": null,
            "_view_module": "@jupyter-widgets/base",
            "_view_module_version": "1.2.0",
            "_view_name": "LayoutView",
            "align_content": null,
            "align_items": null,
            "align_self": null,
            "border": null,
            "bottom": null,
            "display": null,
            "flex": null,
            "flex_flow": null,
            "grid_area": null,
            "grid_auto_columns": null,
            "grid_auto_flow": null,
            "grid_auto_rows": null,
            "grid_column": null,
            "grid_gap": null,
            "grid_row": null,
            "grid_template_areas": null,
            "grid_template_columns": null,
            "grid_template_rows": null,
            "height": null,
            "justify_content": null,
            "justify_items": null,
            "left": null,
            "margin": null,
            "max_height": null,
            "max_width": null,
            "min_height": null,
            "min_width": null,
            "object_fit": null,
            "object_position": null,
            "order": null,
            "overflow": null,
            "overflow_x": null,
            "overflow_y": null,
            "padding": null,
            "right": null,
            "top": null,
            "visibility": null,
            "width": null
          }
        },
        "fb8d52a7acd942bcac4071899bd310da": {
          "model_module": "@jupyter-widgets/controls",
          "model_name": "DescriptionStyleModel",
          "model_module_version": "1.5.0",
          "state": {
            "_model_module": "@jupyter-widgets/controls",
            "_model_module_version": "1.5.0",
            "_model_name": "DescriptionStyleModel",
            "_view_count": null,
            "_view_module": "@jupyter-widgets/base",
            "_view_module_version": "1.2.0",
            "_view_name": "StyleView",
            "description_width": ""
          }
        },
        "46d79aa0a63643f4a89db6883c3d15e8": {
          "model_module": "@jupyter-widgets/base",
          "model_name": "LayoutModel",
          "model_module_version": "1.2.0",
          "state": {
            "_model_module": "@jupyter-widgets/base",
            "_model_module_version": "1.2.0",
            "_model_name": "LayoutModel",
            "_view_count": null,
            "_view_module": "@jupyter-widgets/base",
            "_view_module_version": "1.2.0",
            "_view_name": "LayoutView",
            "align_content": null,
            "align_items": null,
            "align_self": null,
            "border": null,
            "bottom": null,
            "display": null,
            "flex": null,
            "flex_flow": null,
            "grid_area": null,
            "grid_auto_columns": null,
            "grid_auto_flow": null,
            "grid_auto_rows": null,
            "grid_column": null,
            "grid_gap": null,
            "grid_row": null,
            "grid_template_areas": null,
            "grid_template_columns": null,
            "grid_template_rows": null,
            "height": null,
            "justify_content": null,
            "justify_items": null,
            "left": null,
            "margin": null,
            "max_height": null,
            "max_width": null,
            "min_height": null,
            "min_width": null,
            "object_fit": null,
            "object_position": null,
            "order": null,
            "overflow": null,
            "overflow_x": null,
            "overflow_y": null,
            "padding": null,
            "right": null,
            "top": null,
            "visibility": null,
            "width": null
          }
        },
        "b2b18c68cacd468192b5ef1086cde813": {
          "model_module": "@jupyter-widgets/controls",
          "model_name": "ProgressStyleModel",
          "model_module_version": "1.5.0",
          "state": {
            "_model_module": "@jupyter-widgets/controls",
            "_model_module_version": "1.5.0",
            "_model_name": "ProgressStyleModel",
            "_view_count": null,
            "_view_module": "@jupyter-widgets/base",
            "_view_module_version": "1.2.0",
            "_view_name": "StyleView",
            "bar_color": null,
            "description_width": ""
          }
        },
        "2c66e0793a1a4f5e89d3e4da44ada13f": {
          "model_module": "@jupyter-widgets/base",
          "model_name": "LayoutModel",
          "model_module_version": "1.2.0",
          "state": {
            "_model_module": "@jupyter-widgets/base",
            "_model_module_version": "1.2.0",
            "_model_name": "LayoutModel",
            "_view_count": null,
            "_view_module": "@jupyter-widgets/base",
            "_view_module_version": "1.2.0",
            "_view_name": "LayoutView",
            "align_content": null,
            "align_items": null,
            "align_self": null,
            "border": null,
            "bottom": null,
            "display": null,
            "flex": null,
            "flex_flow": null,
            "grid_area": null,
            "grid_auto_columns": null,
            "grid_auto_flow": null,
            "grid_auto_rows": null,
            "grid_column": null,
            "grid_gap": null,
            "grid_row": null,
            "grid_template_areas": null,
            "grid_template_columns": null,
            "grid_template_rows": null,
            "height": null,
            "justify_content": null,
            "justify_items": null,
            "left": null,
            "margin": null,
            "max_height": null,
            "max_width": null,
            "min_height": null,
            "min_width": null,
            "object_fit": null,
            "object_position": null,
            "order": null,
            "overflow": null,
            "overflow_x": null,
            "overflow_y": null,
            "padding": null,
            "right": null,
            "top": null,
            "visibility": null,
            "width": null
          }
        },
        "e6c28d8fe0034420aae367046f8a3af2": {
          "model_module": "@jupyter-widgets/controls",
          "model_name": "DescriptionStyleModel",
          "model_module_version": "1.5.0",
          "state": {
            "_model_module": "@jupyter-widgets/controls",
            "_model_module_version": "1.5.0",
            "_model_name": "DescriptionStyleModel",
            "_view_count": null,
            "_view_module": "@jupyter-widgets/base",
            "_view_module_version": "1.2.0",
            "_view_name": "StyleView",
            "description_width": ""
          }
        }
      }
    },
    "accelerator": "GPU"
  },
  "cells": [
    {
      "cell_type": "code",
      "source": [
        "!pip install wget"
      ],
      "metadata": {
        "colab": {
          "base_uri": "https://localhost:8080/"
        },
        "id": "sS6ZRAYXBZC6",
        "outputId": "dd50930d-06c2-4a71-e380-85403d405221"
      },
      "execution_count": 1,
      "outputs": [
        {
          "output_type": "stream",
          "name": "stdout",
          "text": [
            "Collecting wget\n",
            "  Downloading wget-3.2.zip (10 kB)\n",
            "  Preparing metadata (setup.py) ... \u001b[?25l\u001b[?25hdone\n",
            "Building wheels for collected packages: wget\n",
            "  Building wheel for wget (setup.py) ... \u001b[?25l\u001b[?25hdone\n",
            "  Created wheel for wget: filename=wget-3.2-py3-none-any.whl size=9656 sha256=57657b2b9d0a961d8d9dd1a66f73188af88b1e197463a16ce0721620b5abbad1\n",
            "  Stored in directory: /root/.cache/pip/wheels/8b/f1/7f/5c94f0a7a505ca1c81cd1d9208ae2064675d97582078e6c769\n",
            "Successfully built wget\n",
            "Installing collected packages: wget\n",
            "Successfully installed wget-3.2\n"
          ]
        }
      ]
    },
    {
      "cell_type": "code",
      "execution_count": 2,
      "metadata": {
        "id": "MUyhLByi5dQb"
      },
      "outputs": [],
      "source": [
        "import os\n",
        "import wget\n",
        "import zipfile\n",
        "import torchvision.datasets as datasets\n",
        "from torch.utils.data import DataLoader\n",
        "import torchvision.transforms as T\n",
        "import torch\n",
        "from torchvision.utils import make_grid\n",
        "import matplotlib.pyplot as plt\n",
        "import torch.nn as nn\n",
        "import torch.nn.functional as F\n",
        "from tqdm.notebook import tqdm"
      ]
    },
    {
      "cell_type": "code",
      "source": [
        "from google.colab import drive\n",
        "drive.mount('/content/drive')"
      ],
      "metadata": {
        "id": "3gXmRZbBaHEg",
        "colab": {
          "base_uri": "https://localhost:8080/"
        },
        "outputId": "f240ddd6-f0a2-4b10-fb20-93a5bc1ea520"
      },
      "execution_count": 3,
      "outputs": [
        {
          "output_type": "stream",
          "name": "stdout",
          "text": [
            "Mounted at /content/drive\n"
          ]
        }
      ]
    },
    {
      "cell_type": "code",
      "source": [
        "data_root = \"datasets\"\n",
        "\n",
        "base_url = \"https://graal.ift.ulaval.ca/public/celeba/\"\n",
        "\n",
        "file_list = [\n",
        "    \"img_align_celeba.zip\",\n",
        "    \"list_attr_celeba.txt\",\n",
        "    \"identity_CelebA.txt\",\n",
        "    \"list_bbox_celeba.txt\",\n",
        "    \"list_landmarks_align_celeba.txt\",\n",
        "    \"list_eval_partition.txt\",\n",
        "]\n",
        "\n",
        "dataset_folder = f\"{data_root}/celeba\"\n",
        "os.makedirs(dataset_folder, exist_ok=True)\n",
        "\n",
        "for file in file_list:\n",
        "    url = f\"{base_url}/{file}\"\n",
        "    if not os.path.exists(f\"{dataset_folder}/{file}\"):\n",
        "        wget.download(url, f\"{dataset_folder}/{file}\")\n",
        "\n",
        "with zipfile.ZipFile(f\"{dataset_folder}/img_align_celeba.zip\", \"r\") as ziphandler:\n",
        "    ziphandler.extractall(dataset_folder)"
      ],
      "metadata": {
        "id": "j_56Vo2-6fEa"
      },
      "execution_count": 4,
      "outputs": []
    },
    {
      "cell_type": "code",
      "source": [
        "image_size = 64\n",
        "batch_size = 64\n",
        "stats = (0.5, 0.5, 0.5), (0.5, 0.5, 0.5)\n",
        "\n",
        "transforms = T.Compose([T.Resize(image_size),\n",
        "    T.CenterCrop(image_size),\n",
        "    T.ToTensor(),\n",
        "    T.Normalize(*stats)])\n",
        "\n",
        "train_dataset_images = datasets.CelebA(data_root, split=\"train\", target_type=[\"attr\", \"landmarks\"])\n",
        "train_dataset = datasets.CelebA(data_root, split=\"train\", target_type=[\"attr\", \"landmarks\"], transform=transforms)"
      ],
      "metadata": {
        "id": "mpoimoEt6h48"
      },
      "execution_count": 5,
      "outputs": []
    },
    {
      "cell_type": "code",
      "source": [
        "train_dataset_images[1][0]"
      ],
      "metadata": {
        "id": "pmoTkgR7GmHi",
        "colab": {
          "base_uri": "https://localhost:8080/",
          "height": 235
        },
        "outputId": "d4006a3e-1a7c-4358-bb9a-a6c1199a7fc8"
      },
      "execution_count": 6,
      "outputs": [
        {
          "output_type": "execute_result",
          "data": {
            "text/plain": [
              "<PIL.JpegImagePlugin.JpegImageFile image mode=RGB size=178x218>"
            ],
            "image/png": "[encoded data removed]"
          },
          "metadata": {},
          "execution_count": 6
        }
      ]
    },
    {
      "cell_type": "code",
      "source": [
        "train_data_loader = DataLoader(train_dataset, batch_size, shuffle=True, pin_memory=True)"
      ],
      "metadata": {
        "id": "8njcQhQOVgV1"
      },
      "execution_count": 7,
      "outputs": []
    },
    {
      "cell_type": "code",
      "source": [
        "def get_default_device():\n",
        "    if torch.cuda.is_available():\n",
        "        return torch.device('cuda')\n",
        "    else:\n",
        "        return torch.device('cpu')\n",
        "\n",
        "def to_device(data, device):\n",
        "    if isinstance(data, (list,tuple)):\n",
        "        return [to_device(x, device) for x in data]\n",
        "    return data.to(device, non_blocking=True)\n",
        "\n",
        "class DeviceDataLoader():\n",
        "    def __init__(self, dataloader, device):\n",
        "        self.dataloader = dataloader\n",
        "        self.device = device\n",
        "\n",
        "    def __iter__(self):\n",
        "        for batch in self.dataloader:\n",
        "            yield to_device(batch, self.device)\n",
        "\n",
        "    def __len__(self):\n",
        "        return len(self.dataloader)"
      ],
      "metadata": {
        "id": "isGJke5dTJfH"
      },
      "execution_count": 8,
      "outputs": []
    },
    {
      "cell_type": "code",
      "source": [
        "device = get_default_device()\n",
        "train_data_loader = DeviceDataLoader(train_data_loader, device)"
      ],
      "metadata": {
        "id": "XKzWyvIzVBL2"
      },
      "execution_count": 9,
      "outputs": []
    },
    {
      "cell_type": "code",
      "source": [
        "#Useful Functions\n",
        "def denorm(img_tensors):\n",
        "    return img_tensors * stats[1][0] + stats[0][0]\n",
        "\n",
        "def show_images(images, i, nmax=64):\n",
        "    fig, ax = plt.subplots(figsize=(5, 5))\n",
        "    ax.set_xticks([]); ax.set_yticks([])\n",
        "    ax.imshow(make_grid(denorm(images[i].detach()[:nmax]), nrow=8).permute(1, 2, 0))\n",
        "\n",
        "def save_checkpoint(state, filename=\"/content/drive/MyDrive/Saved_models/celebface_checkpoint.pth.tar\"):\n",
        "    print(\"=> Saving checkpoint\")\n",
        "    torch.save(state, filename)\n",
        "\n",
        "def load_checkpoint(checkpoint, gen_state_dict, dis_state_dict, opt_g, opt_d):\n",
        "    print(\"=> Loading checkpoint\")\n",
        "    generator.load_state_dict(checkpoint[\"gen_state_dict\"])\n",
        "    discriminator.load_state_dict(checkpoint[\"dis_state_dict\"])\n",
        "    opt_g.load_state_dict(checkpoint[\"opt_g\"])\n",
        "    opt_d.load_state_dict(checkpoint[\"opt_d\"])"
      ],
      "metadata": {
        "id": "dq0vs2kbQWgv"
      },
      "execution_count": 43,
      "outputs": []
    },
    {
      "cell_type": "code",
      "source": [
        "input_length = 100\n",
        "generator = nn.Sequential(\n",
        "\n",
        "    nn.ConvTranspose2d(input_length, 512, kernel_size=4, stride=1, padding=0, bias=False),\n",
        "    nn.BatchNorm2d(512),\n",
        "    nn.ReLU(True),\n",
        "\n",
        "    nn.ConvTranspose2d(512, 256, kernel_size=4, stride=2, padding=1, bias=False),\n",
        "    nn.BatchNorm2d(256),\n",
        "    nn.ReLU(True),\n",
        "\n",
        "    nn.ConvTranspose2d(256, 128, kernel_size=4, stride=2, padding=1, bias=False),\n",
        "    nn.BatchNorm2d(128),\n",
        "    nn.ReLU(True),\n",
        "\n",
        "    nn.ConvTranspose2d(128, 64, kernel_size=4, stride=2, padding=1, bias=False),\n",
        "    nn.BatchNorm2d(64),\n",
        "    nn.ReLU(True),\n",
        "\n",
        "    nn.ConvTranspose2d(64, 3, kernel_size=4, stride=2, padding=1, bias=False),\n",
        "    nn.Tanh()\n",
        ")\n",
        "generator = to_device(generator, device)"
      ],
      "metadata": {
        "id": "A7PxrnpkXdqM"
      },
      "execution_count": 11,
      "outputs": []
    },
    {
      "cell_type": "code",
      "source": [
        "discriminator = nn.Sequential(\n",
        "\n",
        "    nn.Conv2d(3, 64, kernel_size=4, stride=2, padding=1, bias=False),\n",
        "    nn.BatchNorm2d(64),\n",
        "    nn.LeakyReLU(0.2, inplace=True),\n",
        "\n",
        "    nn.Conv2d(64, 128, kernel_size=4, stride=2, padding=1, bias=False),\n",
        "    nn.BatchNorm2d(128),\n",
        "    nn.LeakyReLU(0.2, inplace=True),\n",
        "\n",
        "    nn.Conv2d(128, 256, kernel_size=4, stride=2, padding=1, bias=False),\n",
        "    nn.BatchNorm2d(256),\n",
        "    nn.LeakyReLU(0.2, inplace=True),\n",
        "\n",
        "    nn.Conv2d(256, 512, kernel_size=4, stride=2, padding=1, bias=False),\n",
        "    nn.BatchNorm2d(512),\n",
        "    nn.LeakyReLU(0.2, inplace=True),\n",
        "\n",
        "    nn.Conv2d(512, 1, kernel_size=4, stride=1, padding=0, bias=False),\n",
        "    nn.Flatten(),\n",
        "    nn.Sigmoid()\n",
        ")"
      ],
      "metadata": {
        "id": "8D1WQN5fyO2x"
      },
      "execution_count": 12,
      "outputs": []
    },
    {
      "cell_type": "code",
      "source": [
        "def train_discriminator(real_images, opt_d):\n",
        "  opt_d.zero_grad()\n",
        "\n",
        "  real_preds = discriminator(real_images)\n",
        "  real_targets = torch.ones(batch_size, 1, device= device)\n",
        "  real_loss = F.binary_cross_entropy(real_preds, real_targets)\n",
        "  real_score = torch.mean(real_preds).item()\n",
        "\n",
        "  input = torch.randn(batch_size, input_length, 1, 1, device=device)\n",
        "  fake_images = generator(input)\n",
        "\n",
        "  fake_preds = discriminator(fake_images)\n",
        "  fake_targets = torch.zeros(batch_size, 1 , device= device)\n",
        "  fake_loss = F.binary_cross_entropy(fake_preds, fake_targets)\n",
        "  fake_score = torch.mean(fake_preds).item()\n",
        "\n",
        "  loss = fake_loss + real_loss\n",
        "  loss.backward()\n",
        "  opt_d.step()\n",
        "  return loss.item(), real_score, fake_score\n",
        "\n",
        "discriminator = to_device(discriminator, device)"
      ],
      "metadata": {
        "id": "qGx5n6BlWQN_"
      },
      "execution_count": 13,
      "outputs": []
    },
    {
      "cell_type": "code",
      "source": [
        "def train_generator(opt_g):\n",
        "  opt_g.zero_grad()\n",
        "\n",
        "  input = torch.randn(batch_size, input_length, 1, 1, device = device)\n",
        "  fake_images = generator(input)\n",
        "\n",
        "  preds = discriminator(fake_images)\n",
        "  targets = torch.ones(batch_size, 1, device= device)\n",
        "  loss = F.binary_cross_entropy(preds, targets)\n",
        "\n",
        "  loss.backward()\n",
        "  opt_g.step()\n",
        "\n",
        "  return loss.item()"
      ],
      "metadata": {
        "id": "HcowmcxADLZG"
      },
      "execution_count": 18,
      "outputs": []
    },
    {
      "cell_type": "code",
      "source": [
        "def train(epochs, lr, start_idx=1, load_model = True):\n",
        "  torch.cuda.empty_cache()\n",
        "\n",
        "  losses_g = []\n",
        "  losses_d = []\n",
        "  real_scores = []\n",
        "  fake_scores = []\n",
        "\n",
        "  opt_d = torch.optim.Adam(discriminator.parameters(), lr=lr, betas=(0.5, 0.999))\n",
        "  opt_g = torch.optim.Adam(generator.parameters(), lr=lr, betas=(0.5, 0.999))\n",
        "\n",
        "  if load_model:\n",
        "    load_checkpoint(torch.load('/content/drive/MyDrive/Saved_models/celebface_checkpoint.pth.tar'), generator, discriminator, opt_g, opt_d)\n",
        "\n",
        "  checkpoint = {\"gen_state_dict\": generator.state_dict(),\"dis_state_dict\": discriminator.state_dict(),\"opt_g\": opt_g.state_dict(),\"opt_d\": opt_d.state_dict()}\n",
        "\n",
        "  for epoch in range(epochs):\n",
        "\n",
        "    if epoch % 3 == 0:\n",
        "      save_checkpoint(checkpoint)\n",
        "\n",
        "    for i, real_images in enumerate(tqdm(train_data_loader)):\n",
        "      if i%3==0:\n",
        "        loss_d, real_score, fake_score = train_discriminator(real_images[0], opt_d)\n",
        "      loss_g = train_generator(opt_g)\n",
        "\n",
        "    losses_g.append(loss_g)\n",
        "    losses_d.append(loss_d)\n",
        "    real_scores.append(real_score)\n",
        "    fake_scores.append(fake_score)\n",
        "\n",
        "    print(\n",
        "        'Epoch = '+str(epoch),\n",
        "        'loss_g = '+str(loss_g),\n",
        "        'loss_d = '+str(loss_d),\n",
        "        'real_score = '+str(real_score),\n",
        "        'fake_score = '+str(fake_score),\n",
        "    )"
      ],
      "metadata": {
        "id": "pXMDwXGdyE3-"
      },
      "execution_count": 30,
      "outputs": []
    },
    {
      "cell_type": "code",
      "source": [
        "train(epochs=2, lr=0.0001, load_model = True)"
      ],
      "metadata": {
        "colab": {
          "base_uri": "https://localhost:8080/",
          "height": 150,
          "referenced_widgets": [
            "6a309f3de7d048ad808fdf861338b1fb",
            "99e51e982429484c9829000ddfe54bf3",
            "f38dbcf20e12449ba439b1cc0074ee32",
            "56756595c39747669d4684d241633cbf",
            "50cbda65b582424aadf24ced02df7a07",
            "8b4ec79f4bd945ca86107f390766831d",
            "46d2f168ba274898bd305b933bc55ce1",
            "f5cb19ba33e6413d86fe3bd2fe8faf53",
            "2154a7d35b1a411c8b40e828602731f1",
            "cb805df1e7ca4555aff9e90a5173af4e",
            "1762fc0f0b4c443b8fae9d1192efe5c6",
            "a1b62939cbf644a593fb2c374f732ccd",
            "7ef33a52147343f8842b20e0667d6961",
            "f4c1742e5d94483191f130159be88d30",
            "329b90b1556044d58bd7d7c5d77a9dc5",
            "8fbc9c547c754bf4bf3a1f994aa3f54e",
            "069b57a25d8e47dab25289403f853f8d",
            "fb8d52a7acd942bcac4071899bd310da",
            "46d79aa0a63643f4a89db6883c3d15e8",
            "b2b18c68cacd468192b5ef1086cde813",
            "2c66e0793a1a4f5e89d3e4da44ada13f",
            "e6c28d8fe0034420aae367046f8a3af2"
          ]
        },
        "id": "xzRIy94s-98x",
        "outputId": "da4f44d5-9dfc-41c3-a5fc-077266d238f3"
      },
      "execution_count": 122,
      "outputs": [
        {
          "output_type": "stream",
          "name": "stdout",
          "text": [
            "=> Loading checkpoint\n",
            "=> Saving checkpoint\n"
          ]
        },
        {
          "output_type": "display_data",
          "data": {
            "text/plain": [
              "  0%|          | 0/2544 [00:00<?, ?it/s]"
            ],
            "application/vnd.jupyter.widget-view+json": {
              "version_major": 2,
              "version_minor": 0,
              "model_id": "6a309f3de7d048ad808fdf861338b1fb"
            }
          },
          "metadata": {}
        },
        {
          "output_type": "stream",
          "name": "stdout",
          "text": [
            "Epoch = 0 loss_g = 3.167152166366577 loss_d = 0.2903859615325928 real_score = 0.8811561465263367 fake_score = 0.13670051097869873\n"
          ]
        },
        {
          "output_type": "display_data",
          "data": {
            "text/plain": [
              "  0%|          | 0/2544 [00:00<?, ?it/s]"
            ],
            "application/vnd.jupyter.widget-view+json": {
              "version_major": 2,
              "version_minor": 0,
              "model_id": "a1b62939cbf644a593fb2c374f732ccd"
            }
          },
          "metadata": {}
        },
        {
          "output_type": "stream",
          "name": "stdout",
          "text": [
            "Epoch = 1 loss_g = 3.0546822547912598 loss_d = 0.22368311882019043 real_score = 0.9472025632858276 fake_score = 0.1442946046590805\n"
          ]
        }
      ]
    },
    {
      "cell_type": "code",
      "source": [
        "xb = torch.randn(batch_size, input_length, 1, 1).to(device)\n",
        "fake_images = generator(xb)\n",
        "print(fake_images.shape)\n",
        "show_images(fake_images.cpu(), 3)"
      ],
      "metadata": {
        "id": "PSsdg8NTmnCc",
        "colab": {
          "base_uri": "https://localhost:8080/",
          "height": 439
        },
        "outputId": "17595368-26b1-4b12-c3f3-9b67f875c1b4"
      },
      "execution_count": 135,
      "outputs": [
        {
          "output_type": "stream",
          "name": "stdout",
          "text": [
            "torch.Size([64, 3, 64, 64])\n"
          ]
        },
        {
          "output_type": "display_data",
          "data": {
            "text/plain": [
              "<Figure size 500x500 with 1 Axes>"
            ],
            "image/png": "[encoded data removed]"
          },
          "metadata": {}
        }
      ]
    },
    {
      "cell_type": "code",
      "source": [
        "torch.save({\n",
        "     'gen_state_dict': generator.state_dict(),\n",
        "     'dis_state_dict': discriminator.state_dict(),\n",
        "     }, '/content/drive/MyDrive/Models/celebface_checkpoint.pth.tar')"
      ],
      "metadata": {
        "id": "safxCROq6uan"
      },
      "execution_count": 136,
      "outputs": []
    }
  ]
}
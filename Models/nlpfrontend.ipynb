{
  "nbformat": 4,
  "nbformat_minor": 0,
  "metadata": {
    "colab": {
      "provenance": [],
      "gpuType": "T4"
    },
    "kernelspec": {
      "name": "python3",
      "display_name": "Python 3"
    },
    "language_info": {
      "name": "python"
    },
    "accelerator": "GPU"
  },
  "cells": [
    {
      "cell_type": "code",
      "source": [
        "prompt = ''' You are an helpful assistant. I am trying to do some language processing on a text prompt that is used to make edits to an image. In every prompt there will be two subjects, it is your task to extract them.\n",
        "\n",
        "Example:\n",
        "\n",
        "Remove the cat from the picture and add a tiger.\n",
        "\n",
        "Return the output in a JSON format and return \"the cat\" and \"a tiger\" as outputs with keys as \"subject 1\" and \"subject 2\".\n",
        "\n",
        "Do the same for the text below -\n",
        "\n",
        "Take the man's hat off and add a fedora.\n",
        "'''"
      ],
      "metadata": {
        "id": "cMnNowsdcfGE"
      },
      "execution_count": 11,
      "outputs": []
    },
    {
      "cell_type": "code",
      "source": [
        "import locale\n",
        "import json\n",
        "def getpreferredencoding(do_setlocale = True):\n",
        "    return \"UTF-8\"\n",
        "locale.getpreferredencoding = getpreferredencoding"
      ],
      "metadata": {
        "id": "BTxvxa47eMt9"
      },
      "execution_count": 50,
      "outputs": []
    },
    {
      "cell_type": "code",
      "source": [
        "!pip install -U llamaapi"
      ],
      "metadata": {
        "id": "pBpTHw1XdFv8"
      },
      "execution_count": null,
      "outputs": []
    },
    {
      "cell_type": "code",
      "source": [
        "pip install langchain-experimental"
      ],
      "metadata": {
        "id": "PWvmzFCRe9nm"
      },
      "execution_count": null,
      "outputs": []
    },
    {
      "cell_type": "code",
      "source": [
        "from llamaapi import LlamaAPI\n",
        "llama = LlamaAPI(\"LL-IKBw9svOF3WJ18BD2KtxKCcClwg0OxJWPLCdsNQpPPjyLaxb02L1CqK2K1Rc4i9X\")"
      ],
      "metadata": {
        "id": "UZB2ASCjeI__"
      },
      "execution_count": 4,
      "outputs": []
    },
    {
      "cell_type": "code",
      "source": [
        "from langchain_experimental.llms import ChatLlamaAPI\n",
        "\n"
      ],
      "metadata": {
        "id": "WIpnTiz7e0sy"
      },
      "execution_count": 5,
      "outputs": []
    },
    {
      "cell_type": "code",
      "source": [
        "model = ChatLlamaAPI(client=llama)"
      ],
      "metadata": {
        "id": "6eau9Pbge5nr"
      },
      "execution_count": 6,
      "outputs": []
    },
    {
      "cell_type": "code",
      "source": [
        "from typing import List\n",
        "\n",
        "from langchain.llms import OpenAI\n",
        "from langchain.output_parsers import PydanticOutputParser\n",
        "from langchain.prompts import PromptTemplate\n",
        "from langchain_core.pydantic_v1 import BaseModel, Field, validator"
      ],
      "metadata": {
        "id": "neoWoMzcvywl"
      },
      "execution_count": 21,
      "outputs": []
    },
    {
      "cell_type": "code",
      "source": [
        "class ImageEdit(BaseModel):\n",
        "    mask: str = Field(description=\"The part of the input that signifies what object, entity or noun needs to removed from a particular image.\")\n",
        "    subject: str = Field(description=\"The part of the input that declares what object, entity or noun needs to be added to the image.\")\n",
        "\n"
      ],
      "metadata": {
        "id": "dMRqKX3fvp9H"
      },
      "execution_count": 29,
      "outputs": []
    },
    {
      "cell_type": "code",
      "source": [
        "from langchain.chains import create_tagging_chain\n",
        "\n",
        "schema = {\n",
        "    \"properties\": {\n",
        "        \"mask\": {\n",
        "            \"type\": \"string\",\n",
        "            \"description\": \"TThe part of the input that signifies what object, entity or noun needs to removed from a particular image.\",\n",
        "        },\n",
        "        \"subject\": {\n",
        "            \"type\": \"string\",\n",
        "            \"description\": \"The part of the input that declares what object, entity or noun needs to be added to the image.\",\n",
        "        }\n",
        "    }\n",
        "}\n",
        "\n",
        "nlp_frontend = create_tagging_chain(schema, model)"
      ],
      "metadata": {
        "id": "BwmcnfHqfTpt"
      },
      "execution_count": 30,
      "outputs": []
    },
    {
      "cell_type": "code",
      "source": [
        "%%time\n",
        "prompt_list= [\"Remove the tree from the image and add a skyscraper\",\n",
        " \"Extract the woman's dress and add a business suit\",\n",
        " \"Remove the sun from the image and add a cloud\",\n",
        " \"Extract the car in the background and add a bicycle\",\n",
        " \"Remove the table from the image and add a bookshelf\",\n",
        " \"Extract the cat's collar and add a bow tie\",\n",
        " \"Remove the cup from the image and add a wine glass\",\n",
        " \"Extract the child's teddy bear and add a video game console\",\n",
        " \"Remove the computer from the image and add a typewriter\",\n",
        " \"Extract the man's glasses and add a monocle\",\n",
        " \"Remove the bird from the image and add a dragonfly\",\n",
        " \"Extract the woman's purse and add a shopping bag\",\n",
        " \"Remove the cityscape from the image and add a mountain view\",\n",
        " \"Extract the dog's leash and add a Frisbee\",\n",
        " \"Remove the boat from the image and add a surfboard\",\n",
        " \"Extract the girl's phone and add a book\",\n",
        " \"Remove the flowers from the image and add cacti\",\n",
        " \"Extract the baby's pacifier and add a rattle\",\n",
        " \"Remove the pizza from the image and add a plate of pasta\",\n",
        " \"Extract the man's wrist watch and add a bracelet\"]\n",
        "\n",
        "for prompt in prompt_list:\n",
        "  try:\n",
        "    x = nlp_frontend.run(prompt)\n",
        "    if type(x['mask']) != str:\n",
        "      print(x['mask']['enum'], x['subject']['enum'])\n",
        "    else:\n",
        "      print(x['mask'], x['subject'])\n",
        "  except Exception as e:\n",
        "    print(\"Error. Try again.\")"
      ],
      "metadata": {
        "colab": {
          "base_uri": "https://localhost:8080/"
        },
        "id": "TYRkz-Kb3Lqc",
        "outputId": "32b25478-eea9-43b1-b7b0-d1dee4888a63"
      },
      "execution_count": 65,
      "outputs": [
        {
          "output_type": "stream",
          "name": "stdout",
          "text": [
            "tree skyscraper\n",
            "dress business suit\n",
            "sun cloud\n",
            "car bicycle\n",
            "table bookshelf\n",
            "collar bow tie\n",
            "The cup A wine glass\n",
            "teddy bear video game console\n",
            "computer typewriter\n",
            "glasses monocle\n",
            "bird dragonfly\n",
            "purse shopping bag\n",
            "cityscape mountain view\n",
            "leash Frisbee\n",
            "boat surfboard\n",
            "phone girl\n",
            "Error. Try again\n",
            "pacifier rattle\n",
            "pizza pasta\n",
            "wrist watch bracelet\n",
            "CPU times: user 1.84 s, sys: 37.5 ms, total: 1.88 s\n",
            "Wall time: 24.2 s\n"
          ]
        }
      ]
    },
    {
      "cell_type": "code",
      "source": [
        "%%time\n",
        "prompt_list= [\"Remove the tree from the image and add a skyscraper\",\n",
        " \"Extract the woman's dress and add a business suit\",\n",
        " \"Remove the sun from the image and add a cloud\",\n",
        " \"Extract the car in the background and add a bicycle\",\n",
        " \"Remove the table from the image and add a bookshelf\",\n",
        " \"Extract the cat's collar and add a bow tie\",\n",
        " \"Remove the cup from the image and add a wine glass\",\n",
        " \"Extract the child's teddy bear and add a video game console\",\n",
        " \"Remove the computer from the image and add a typewriter\",\n",
        " \"Extract the man's glasses and add a monocle\",\n",
        " \"Remove the bird from the image and add a dragonfly\",\n",
        " \"Extract the woman's purse and add a shopping bag\",\n",
        " \"Remove the cityscape from the image and add a mountain view\",\n",
        " \"Extract the dog's leash and add a Frisbee\",\n",
        " \"Remove the boat from the image and add a surfboard\",\n",
        " \"Extract the girl's phone and add a book\",\n",
        " \"Remove the flowers from the image and add cacti\",\n",
        " \"Extract the baby's pacifier and add a rattle\",\n",
        " \"Remove the pizza from the image and add a plate of pasta\",\n",
        " \"Extract the man's wrist watch and add a bracelet\"]\n",
        "\n",
        "for prompt in prompt_list:\n",
        "  x = nlp_frontend.run(prompt)\n",
        "  if x.keys() == [\"mask\", \"key\"]\n",
        "  print(x)\n",
        "  #print(x['mask'], x['subject'])\n",
        "\n"
      ],
      "metadata": {
        "colab": {
          "base_uri": "https://localhost:8080/"
        },
        "id": "YO2vN7w5j-yh",
        "outputId": "25e77981-edb7-44e8-c031-af521cd60ce1"
      },
      "execution_count": 39,
      "outputs": [
        {
          "output_type": "stream",
          "name": "stdout",
          "text": [
            "{'mask': 'tree', 'subject': 'skyscraper'}\n",
            "{\"mask\": \"The woman\"s dress\", \"subject\": \"a business suit\"}\n",
            "{'mask': 'sun', 'subject': 'cloud'}\n",
            "{'mask': 'car', 'subject': 'bicycle'}\n",
            "{'mask': 'table', 'subject': 'bookshelf'}\n",
            "{'mask': 'collar', 'subject': 'bow tie'}\n",
            "{'mask': 'cup', 'subject': 'wine glass'}\n",
            "{'mask': 'teddy bear', 'subject': 'video game console'}\n",
            "{'mask': 'computer', 'subject': 'typewriter'}\n",
            "{'mask': 'glasses', 'subject': 'monocle'}\n",
            "{'mask': 'bird', 'subject': 'dragonfly'}\n",
            "{'mask': 'purse', 'subject': 'shopping bag'}\n",
            "{'mask': 'cityscape', 'subject': 'mountain view'}\n",
            "{'mask': 'leash', 'subject': 'Frisbee'}\n",
            "{'mask': 'boat', 'subject': 'surfboard'}\n",
            "{'mask': 'phone', 'subject': 'book'}\n",
            "{'mask': 'flowers', 'subject': 'cacti'}\n",
            "{\"mask\": \"baby\"s pacifier\", \"subject\": \"rattle\"}\n",
            "{'mask': ' Remove the pizza from the image', 'subject': 'Add a plate of pasta'}\n",
            "{'mask': 'wrist watch', 'subject': 'bracelet'}\n",
            "CPU times: user 1.83 s, sys: 32.1 ms, total: 1.86 s\n",
            "Wall time: 25.4 s\n"
          ]
        }
      ]
    },
    {
      "cell_type": "code",
      "source": [
        "prompt= '''\n",
        "YOU are an helpful assistant. Your task is to generate text prompts for an image editing purpose. Each prompt will have one part that signifies what part to remove and what part of that image to add.\n",
        "Here are two examples:\n",
        "remove the dog from the image and add a cat\n",
        "Extract the man's hat and add a fedora.\n",
        "Generate 20 of these prompts and return a Python list with each element a string with a single prompt. use random nouns to fit the need of mask and subject in the subject.\n",
        "'''"
      ],
      "metadata": {
        "id": "9xRxWhOnjKr3"
      },
      "execution_count": 32,
      "outputs": []
    },
    {
      "cell_type": "code",
      "source": [
        "completion = portkey.chat.completions.create(\n",
        "    messages = [{ \"role\": 'user', \"content\": prompt }],\n",
        "    model = 'gpt-4'\n",
        ")"
      ],
      "metadata": {
        "id": "Tx-aSg_wjy8V"
      },
      "execution_count": 33,
      "outputs": []
    },
    {
      "cell_type": "code",
      "source": [
        "print(completion.choices[0].message['content'])"
      ],
      "metadata": {
        "colab": {
          "base_uri": "https://localhost:8080/"
        },
        "id": "JVqlfqcIj0IH",
        "outputId": "5e486c81-968f-4d58-a82b-31cb26a49ffc"
      },
      "execution_count": 34,
      "outputs": [
        {
          "output_type": "stream",
          "name": "stdout",
          "text": [
            "[\"Remove the tree from the image and add a skyscraper\",\n",
            " \"Extract the woman's dress and add a business suit\",\n",
            " \"Remove the sun from the image and add a cloud\",\n",
            " \"Extract the car in the background and add a bicycle\",\n",
            " \"Remove the table from the image and add a bookshelf\",\n",
            " \"Extract the cat's collar and add a bow tie\",\n",
            " \"Remove the cup from the image and add a wine glass\",\n",
            " \"Extract the child's teddy bear and add a video game console\",\n",
            " \"Remove the computer from the image and add a typewriter\",\n",
            " \"Extract the man's glasses and add a monocle\",\n",
            " \"Remove the bird from the image and add a dragonfly\",\n",
            " \"Extract the woman's purse and add a shopping bag\",\n",
            " \"Remove the cityscape from the image and add a mountain view\",\n",
            " \"Extract the dog's leash and add a Frisbee\",\n",
            " \"Remove the boat from the image and add a surfboard\",\n",
            " \"Extract the girl's phone and add a book\",\n",
            " \"Remove the flowers from the image and add cacti\",\n",
            " \"Extract the baby's pacifier and add a rattle\",\n",
            " \"Remove the pizza from the image and add a plate of pasta\",\n",
            " \"Extract the man's wrist watch and add a bracelet\"]\n"
          ]
        }
      ]
    },
    {
      "cell_type": "code",
      "source": [],
      "metadata": {
        "id": "8PCrHJYaj2Yx"
      },
      "execution_count": null,
      "outputs": []
    }
  ]
}